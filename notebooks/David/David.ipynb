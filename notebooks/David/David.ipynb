{
 "cells": [
  {
   "cell_type": "code",
   "execution_count": 1,
   "id": "2142eb85-2ae3-4c1d-97ff-3847a03a52ea",
   "metadata": {},
   "outputs": [],
   "source": [
    "import pandas as pd\n"
   ]
  },
  {
   "cell_type": "code",
   "execution_count": 2,
   "id": "9bc12484-fc62-4fd3-a531-bfc176500016",
   "metadata": {},
   "outputs": [],
   "source": [
    "web1= pd.read_csv('df_final_web_data_pt_1.csv')"
   ]
  },
  {
   "cell_type": "code",
   "execution_count": 3,
   "id": "df3c9da0-b0e4-406e-b9df-5e1f346640df",
   "metadata": {},
   "outputs": [],
   "source": [
    "web2 = pd.read_csv('df_final_web_data_pt_1.csv')"
   ]
  },
  {
   "cell_type": "code",
   "execution_count": 11,
   "id": "9eb77758-6094-4a52-842e-ecf53c7c8165",
   "metadata": {},
   "outputs": [
    {
     "data": {
      "text/html": [
       "<div>\n",
       "<style scoped>\n",
       "    .dataframe tbody tr th:only-of-type {\n",
       "        vertical-align: middle;\n",
       "    }\n",
       "\n",
       "    .dataframe tbody tr th {\n",
       "        vertical-align: top;\n",
       "    }\n",
       "\n",
       "    .dataframe thead th {\n",
       "        text-align: right;\n",
       "    }\n",
       "</style>\n",
       "<table border=\"1\" class=\"dataframe\">\n",
       "  <thead>\n",
       "    <tr style=\"text-align: right;\">\n",
       "      <th></th>\n",
       "      <th>client_id,visitor_id,visit_id,process_step,date_time</th>\n",
       "    </tr>\n",
       "  </thead>\n",
       "  <tbody>\n",
       "    <tr>\n",
       "      <th>0</th>\n",
       "      <td>9988021,580560515_7732621733,781255054_2193545...</td>\n",
       "    </tr>\n",
       "    <tr>\n",
       "      <th>1</th>\n",
       "      <td>9988021,580560515_7732621733,781255054_2193545...</td>\n",
       "    </tr>\n",
       "    <tr>\n",
       "      <th>2</th>\n",
       "      <td>9988021,580560515_7732621733,781255054_2193545...</td>\n",
       "    </tr>\n",
       "    <tr>\n",
       "      <th>3</th>\n",
       "      <td>9988021,580560515_7732621733,781255054_2193545...</td>\n",
       "    </tr>\n",
       "    <tr>\n",
       "      <th>4</th>\n",
       "      <td>9988021,580560515_7732621733,781255054_2193545...</td>\n",
       "    </tr>\n",
       "  </tbody>\n",
       "</table>\n",
       "</div>"
      ],
      "text/plain": [
       "  client_id,visitor_id,visit_id,process_step,date_time\n",
       "0  9988021,580560515_7732621733,781255054_2193545...  \n",
       "1  9988021,580560515_7732621733,781255054_2193545...  \n",
       "2  9988021,580560515_7732621733,781255054_2193545...  \n",
       "3  9988021,580560515_7732621733,781255054_2193545...  \n",
       "4  9988021,580560515_7732621733,781255054_2193545...  "
      ]
     },
     "execution_count": 11,
     "metadata": {},
     "output_type": "execute_result"
    }
   ],
   "source": [
    "web2.head()"
   ]
  },
  {
   "cell_type": "code",
   "execution_count": null,
   "id": "e7c9702c-6841-4112-9943-cd05f20dfb4c",
   "metadata": {},
   "outputs": [],
   "source": []
  }
 ],
 "metadata": {
  "kernelspec": {
   "display_name": "Python 3 (ipykernel)",
   "language": "python",
   "name": "python3"
  },
  "language_info": {
   "codemirror_mode": {
    "name": "ipython",
    "version": 3
   },
   "file_extension": ".py",
   "mimetype": "text/x-python",
   "name": "python",
   "nbconvert_exporter": "python",
   "pygments_lexer": "ipython3",
   "version": "3.11.7"
  }
 },
 "nbformat": 4,
 "nbformat_minor": 5
}
